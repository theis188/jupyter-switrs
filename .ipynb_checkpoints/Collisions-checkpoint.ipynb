{
 "cells": [
  {
   "cell_type": "markdown",
   "metadata": {},
   "source": [
    "# Traffic collisions in Los Angeles County\n",
    "\n",
    "This is a Jupyter Notebook for analyzing the traffic collision data available for Los Angeles County through <a href=\"http://tims.berkeley.edu\">TIMS</a>. The analysis uses the Pandas package in Python:\n"
   ]
  },
  {
   "cell_type": "code",
   "execution_count": 2,
   "metadata": {
    "collapsed": true
   },
   "outputs": [],
   "source": [
    "import pandas"
   ]
  },
  {
   "cell_type": "markdown",
   "metadata": {},
   "source": [
    "# Analyzing data\n",
    "\n",
    "Here I will analyze data about traffic collisions in Los Angeles County. First, let's load the data set into pandas and take a look at it. This particular data set is for the collisions which occurred in Los Angeles County in January 2012."
   ]
  },
  {
   "cell_type": "code",
   "execution_count": 3,
   "metadata": {
    "collapsed": false
   },
   "outputs": [
    {
     "data": {
      "text/plain": [
       "(4146, 83)"
      ]
     },
     "execution_count": 3,
     "metadata": {},
     "output_type": "execute_result"
    }
   ],
   "source": [
    "#Load the data, show data size\n",
    "\n",
    "data = pandas.read_csv('Jan12Collisions.csv')\n",
    "data.shape"
   ]
  },
  {
   "cell_type": "markdown",
   "metadata": {},
   "source": [
    "This means there are 4146 collisions recorded (instances) and 83 observations (features) for each collision."
   ]
  },
  {
   "cell_type": "code",
   "execution_count": 7,
   "metadata": {
    "collapsed": false
   },
   "outputs": [
    {
     "data": {
      "text/html": [
       "<div>\n",
       "<table border=\"1\" class=\"dataframe\">\n",
       "  <thead>\n",
       "    <tr style=\"text-align: right;\">\n",
       "      <th></th>\n",
       "      <th>CASEID</th>\n",
       "      <th>POINT_X</th>\n",
       "      <th>POINT_Y</th>\n",
       "      <th>YEAR_</th>\n",
       "      <th>LOCATION</th>\n",
       "      <th>CHPTYPE</th>\n",
       "      <th>DAYWEEK</th>\n",
       "      <th>CRASHSEV</th>\n",
       "      <th>VIOLCAT</th>\n",
       "      <th>KILLED</th>\n",
       "      <th>...</th>\n",
       "      <th>BICINJ</th>\n",
       "      <th>MCKILL</th>\n",
       "      <th>MCINJURE</th>\n",
       "      <th>RAMP1</th>\n",
       "      <th>RAMP2</th>\n",
       "      <th>CITY</th>\n",
       "      <th>COUNTY</th>\n",
       "      <th>STATE</th>\n",
       "      <th>X_CHP</th>\n",
       "      <th>Y_CHP</th>\n",
       "    </tr>\n",
       "  </thead>\n",
       "  <tbody>\n",
       "    <tr>\n",
       "      <th>0</th>\n",
       "      <td>6413841</td>\n",
       "      <td>0.000000</td>\n",
       "      <td>0.000000</td>\n",
       "      <td>2012</td>\n",
       "      <td>1942</td>\n",
       "      <td>0</td>\n",
       "      <td>2</td>\n",
       "      <td>3</td>\n",
       "      <td>09</td>\n",
       "      <td>0</td>\n",
       "      <td>...</td>\n",
       "      <td>0</td>\n",
       "      <td>0</td>\n",
       "      <td>0</td>\n",
       "      <td>-</td>\n",
       "      <td>-</td>\n",
       "      <td>LOS ANGELES</td>\n",
       "      <td>LOS ANGELES</td>\n",
       "      <td>CA</td>\n",
       "      <td>0.00000</td>\n",
       "      <td>0.00000</td>\n",
       "    </tr>\n",
       "    <tr>\n",
       "      <th>1</th>\n",
       "      <td>6348475</td>\n",
       "      <td>-118.208609</td>\n",
       "      <td>33.873498</td>\n",
       "      <td>2012</td>\n",
       "      <td>1900</td>\n",
       "      <td>3</td>\n",
       "      <td>1</td>\n",
       "      <td>4</td>\n",
       "      <td>03</td>\n",
       "      <td>0</td>\n",
       "      <td>...</td>\n",
       "      <td>0</td>\n",
       "      <td>0</td>\n",
       "      <td>0</td>\n",
       "      <td>-</td>\n",
       "      <td>-</td>\n",
       "      <td>UNINCORPORATED</td>\n",
       "      <td>LOS ANGELES</td>\n",
       "      <td>CA</td>\n",
       "      <td>-118.20821</td>\n",
       "      <td>33.87339</td>\n",
       "    </tr>\n",
       "    <tr>\n",
       "      <th>2</th>\n",
       "      <td>6216712</td>\n",
       "      <td>-118.210569</td>\n",
       "      <td>33.925397</td>\n",
       "      <td>2012</td>\n",
       "      <td>1943</td>\n",
       "      <td>1</td>\n",
       "      <td>4</td>\n",
       "      <td>4</td>\n",
       "      <td>03</td>\n",
       "      <td>0</td>\n",
       "      <td>...</td>\n",
       "      <td>0</td>\n",
       "      <td>0</td>\n",
       "      <td>0</td>\n",
       "      <td>-</td>\n",
       "      <td>-</td>\n",
       "      <td>LYNWOOD</td>\n",
       "      <td>LOS ANGELES</td>\n",
       "      <td>CA</td>\n",
       "      <td>-118.21148</td>\n",
       "      <td>33.92575</td>\n",
       "    </tr>\n",
       "    <tr>\n",
       "      <th>3</th>\n",
       "      <td>6071228</td>\n",
       "      <td>-118.536040</td>\n",
       "      <td>34.168913</td>\n",
       "      <td>2012</td>\n",
       "      <td>1942</td>\n",
       "      <td>0</td>\n",
       "      <td>5</td>\n",
       "      <td>4</td>\n",
       "      <td>00</td>\n",
       "      <td>0</td>\n",
       "      <td>...</td>\n",
       "      <td>0</td>\n",
       "      <td>0</td>\n",
       "      <td>0</td>\n",
       "      <td>-</td>\n",
       "      <td>-</td>\n",
       "      <td>LOS ANGELES</td>\n",
       "      <td>LOS ANGELES</td>\n",
       "      <td>CA</td>\n",
       "      <td>0.00000</td>\n",
       "      <td>0.00000</td>\n",
       "    </tr>\n",
       "    <tr>\n",
       "      <th>4</th>\n",
       "      <td>6063954</td>\n",
       "      <td>-118.168333</td>\n",
       "      <td>34.114790</td>\n",
       "      <td>2012</td>\n",
       "      <td>1970</td>\n",
       "      <td>0</td>\n",
       "      <td>4</td>\n",
       "      <td>4</td>\n",
       "      <td>18</td>\n",
       "      <td>0</td>\n",
       "      <td>...</td>\n",
       "      <td>1</td>\n",
       "      <td>0</td>\n",
       "      <td>0</td>\n",
       "      <td>-</td>\n",
       "      <td>-</td>\n",
       "      <td>SOUTH PASADENA</td>\n",
       "      <td>LOS ANGELES</td>\n",
       "      <td>CA</td>\n",
       "      <td>0.00000</td>\n",
       "      <td>0.00000</td>\n",
       "    </tr>\n",
       "  </tbody>\n",
       "</table>\n",
       "<p>5 rows × 83 columns</p>\n",
       "</div>"
      ],
      "text/plain": [
       "    CASEID     POINT_X    POINT_Y  YEAR_  LOCATION CHPTYPE  DAYWEEK  CRASHSEV  \\\n",
       "0  6413841    0.000000   0.000000   2012      1942       0        2         3   \n",
       "1  6348475 -118.208609  33.873498   2012      1900       3        1         4   \n",
       "2  6216712 -118.210569  33.925397   2012      1943       1        4         4   \n",
       "3  6071228 -118.536040  34.168913   2012      1942       0        5         4   \n",
       "4  6063954 -118.168333  34.114790   2012      1970       0        4         4   \n",
       "\n",
       "  VIOLCAT  KILLED    ...     BICINJ MCKILL MCINJURE RAMP1 RAMP2  \\\n",
       "0      09       0    ...          0      0        0     -     -   \n",
       "1      03       0    ...          0      0        0     -     -   \n",
       "2      03       0    ...          0      0        0     -     -   \n",
       "3      00       0    ...          0      0        0     -     -   \n",
       "4      18       0    ...          1      0        0     -     -   \n",
       "\n",
       "             CITY       COUNTY  STATE      X_CHP     Y_CHP  \n",
       "0     LOS ANGELES  LOS ANGELES     CA    0.00000   0.00000  \n",
       "1  UNINCORPORATED  LOS ANGELES     CA -118.20821  33.87339  \n",
       "2         LYNWOOD  LOS ANGELES     CA -118.21148  33.92575  \n",
       "3     LOS ANGELES  LOS ANGELES     CA    0.00000   0.00000  \n",
       "4  SOUTH PASADENA  LOS ANGELES     CA    0.00000   0.00000  \n",
       "\n",
       "[5 rows x 83 columns]"
      ]
     },
     "execution_count": 7,
     "metadata": {},
     "output_type": "execute_result"
    }
   ],
   "source": [
    "# What does the data look like? limit to first five rows\n",
    "\n",
    "data.iloc[:5,:]"
   ]
  },
  {
   "cell_type": "markdown",
   "metadata": {},
   "source": [
    "## Column labels?\n",
    "\n",
    "The many columns of this data table are labeled in ways that aren't entirely clear. One can refer to the <a href= \"https://www.google.com/url?sa=t&rct=j&q=&esrc=s&source=web&cd=1&cad=rja&uact=8&ved=0ahUKEwiVlLOUxrfOAhVKw2MKHcgiA0QQFggeMAA&url=http%3A%2F%2Ftims.berkeley.edu%2Fhelp%2Ffiles%2FSWITRS_codebook.doc&usg=AFQjCNGCxvBCwxEhUNqig4mfgAFWux-Ucg&sig2=CE-FCd7hQyDTWSMS3TljcQ\">SWITRS codebook</a>.\n",
    "\n",
    "This allows us to interpret the meaning of each column and their codes.\n",
    "\n",
    "Next, let's look at which hours of the day have the most collisions recorded."
   ]
  },
  {
   "cell_type": "code",
   "execution_count": 163,
   "metadata": {
    "collapsed": false
   },
   "outputs": [
    {
     "name": "stdout",
     "output_type": "stream",
     "text": [
      "17    357\n",
      "18    333\n",
      "15    332\n",
      "16    268\n",
      "14    254\n",
      "13    242\n",
      "8     231\n",
      "12    222\n",
      "11    219\n",
      "7     212\n",
      "19    209\n",
      "10    208\n",
      "9     185\n",
      "20    141\n",
      "22    112\n",
      "21    112\n",
      "6      97\n",
      "2      78\n",
      "5      72\n",
      "1      70\n",
      "23     54\n",
      "0      51\n",
      "3      49\n",
      "4      34\n",
      "25      4\n",
      "Name: TIME_, dtype: int64\n"
     ]
    }
   ],
   "source": [
    "HourCounts = (data.TIME_//100).value_counts()\n",
    "print HourCounts\n",
    "\n",
    "#There are apparently 4 instances where time is misrecorded as hour 25, let's remove these\n",
    "HourCounts = HourCounts[0:24]"
   ]
  },
  {
   "cell_type": "code",
   "execution_count": 150,
   "metadata": {
    "collapsed": false,
    "scrolled": true
   },
   "outputs": [],
   "source": [
    "#Now put the data in order by hour of day\n",
    "\n",
    "OrdHrCnts = [HourCounts.loc[i] for i in range(24)]\n"
   ]
  },
  {
   "cell_type": "markdown",
   "metadata": {},
   "source": [
    "# Number of crashes in each hour of the day \n",
    "\n",
    "Let's now plot the number of crashes during each hour of the day for January 2012 in LA County. The rush hours of 6-9am and 3-6pm are highlighted."
   ]
  },
  {
   "cell_type": "code",
   "execution_count": 53,
   "metadata": {
    "collapsed": false
   },
   "outputs": [
    {
     "data": {
      "image/png": "[encoded data removed]",
      "text/plain": [
       "<matplotlib.figure.Figure at 0xa777ac8>"
      ]
     },
     "metadata": {},
     "output_type": "display_data"
    }
   ],
   "source": [
    "%matplotlib inline\n",
    "\n",
    "import matplotlib.pyplot as plt\n",
    "\n",
    "plt.plot(OrdHrCnts)\n",
    "plt.axvspan(6, 9, color='y', alpha=0.5, lw=0)\n",
    "plt.axvspan(15, 18, color='y', alpha=0.5, lw=0)\n",
    "plt.xlabel('Hour of Day')\n",
    "plt.ylabel('Number of Crashes')\n",
    "\n",
    "plt.show()\n"
   ]
  },
  {
   "cell_type": "markdown",
   "metadata": {},
   "source": [
    "Let's now do a similar thing, but accross different days rather than hours. Weekends are highlighted."
   ]
  },
  {
   "cell_type": "code",
   "execution_count": 119,
   "metadata": {
    "collapsed": false
   },
   "outputs": [],
   "source": [
    "import re\n",
    "days=pandas.Series([re.search('-(.+)-(.+)',i).group(2) for i in data.DATE_])\n",
    "dayCounts = days.value_counts()\n",
    "ordDayCounts = [dayCounts.loc[\"{0:0=2d}\".format(i)] for i in range(1,dayCounts.shape[0]+1)]"
   ]
  },
  {
   "cell_type": "code",
   "execution_count": 96,
   "metadata": {
    "collapsed": false
   },
   "outputs": [
    {
     "data": {
      "image/png": "[encoded data removed]",
      "text/plain": [
       "<matplotlib.figure.Figure at 0xacc6908>"
      ]
     },
     "metadata": {},
     "output_type": "display_data"
    }
   ],
   "source": [
    "%matplotlib inline\n",
    "\n",
    "plt.plot(range(1,32),ordDayCounts)\n",
    "plt.axvspan(0.5, 1.5, color='y', alpha=0.5, lw=0)\n",
    "plt.axvspan(6.5, 8.5, color='y', alpha=0.5, lw=0)\n",
    "plt.axvspan(13.5, 15.5, color='y', alpha=0.5, lw=0)\n",
    "plt.axvspan(20.5, 22.5, color='y', alpha=0.5, lw=0)\n",
    "plt.axvspan(27.5, 29.5, color='y', alpha=0.5, lw=0)\n",
    "plt.xlabel('Day of Month')\n",
    "plt.ylabel('Number of Crashes')\n",
    "\n",
    "plt.show()\n"
   ]
  },
  {
   "cell_type": "markdown",
   "metadata": {},
   "source": [
    "It looks like weekend crashes may be less common... Let's look at the data another way."
   ]
  },
  {
   "cell_type": "code",
   "execution_count": 120,
   "metadata": {
    "collapsed": false
   },
   "outputs": [
    {
     "name": "stdout",
     "output_type": "stream",
     "text": [
      "[103, 132, 111, 180, 108, 114, 99, 94, 101]\n"
     ]
    }
   ],
   "source": [
    "weekendCounts = [];\n",
    "weekendDays = [1,7,8,14,15,21,22,28,29];\n",
    "for i in weekendDays[::-1]: weekendCounts.append(ordDayCounts.pop(i-1))\n",
    "\n",
    "print weekendCounts"
   ]
  },
  {
   "cell_type": "code",
   "execution_count": 149,
   "metadata": {
    "collapsed": false
   },
   "outputs": [
    {
     "data": {
      "image/png": "[encoded data removed]",
      "text/plain": [
       "<matplotlib.figure.Figure at 0x9b7e828>"
      ]
     },
     "metadata": {},
     "output_type": "display_data"
    }
   ],
   "source": [
    "#plt.plot(range(1,32),ordDayCounts)\n",
    "import random\n",
    "\n",
    "ax1 = plt.subplot()\n",
    "\n",
    "dayX = [2]*len(ordDayCounts)\n",
    "wkdX = [1]*len(weekendCounts)\n",
    "\n",
    "dayX = [i+(random.random()-0.5)/10 for i in dayX]\n",
    "wkdX = [i+(random.random()-0.5)/10 for i in wkdX]\n",
    "\n",
    "ax1.scatter(dayX+wkdX,ordDayCounts+weekendCounts,s=50,alpha=0.25)\n",
    "ax1.set_xlim(0.5,2.5)\n",
    "ax1.set_ylim(0,240)\n",
    "ax1.set_xticks((1,2))\n",
    "ax1.set_xticklabels(('Weekend','Weekday'))\n",
    "ax1.set_ylabel('Collision Case Count')\n",
    "plt.show()"
   ]
  },
  {
   "cell_type": "markdown",
   "metadata": {},
   "source": [
    "So there appears to really be minimal difference between weekend & weekday crash counts, at least for this slice of data in January.\n",
    "\n",
    "# Modelling collisions as a Poisson process\n",
    "\n",
    "A Poisson process is one that occurs randomly over time (or in space). For a process that occurs with expected frequency $\\lambda$ per unit time, the number of events $n$, observed after time $t$ is a random variable Poisson distributed with parameter $\\lambda{t}$.\n",
    "\n",
    "The Poisson distribution is defined as follows:\n",
    "\n",
    "$\\large P(\\lambda{t},n) = \\frac{\\lambda{t}^{n}e^{-\\lambda{t}}} {n!}$\n",
    "\n",
    "If we assume that ${t}$ = 1 day and absorb it into $\\lambda$, then $\\lambda$ becomes the expected number of collisions in one day\n",
    "\n",
    "$\\large P(\\lambda,n) = \\frac{\\lambda^{n}e^{-\\lambda}} {n!}$\n",
    "\n",
    "We can now determine the joint likelihood of observing the number of collisions each day, under the assumption that the days are iid draws from a poisson distribution. Joint likelihood:\n",
    "\n",
    "$\\large Likelihood(\\lambda)={\\displaystyle \\prod_{i \\in Days}^{} P(\\lambda,n_i)}={\\displaystyle \\prod_{i \\in Days}^{} \\frac{\\lambda^{n_i}e^{-\\lambda}}{n_i!}}$\n",
    "\n",
    "Since likelihood is only relative, we needn't include the denominator, since the factor of $\\prod_{Days}^{} \\frac{1} {n!}$ will be present at every value of $\\lambda$.\n",
    "\n",
    "Numeric stability is better if we calculate this as log-likelihood.\n",
    "\n",
    "$RLL = \\sum_{i \\in Days}^{} nlog(\\lambda) - \\lambda$"
   ]
  },
  {
   "cell_type": "code",
   "execution_count": 198,
   "metadata": {
    "collapsed": false
   },
   "outputs": [
    {
     "data": {
      "image/png": "[encoded data removed]",
      "text/plain": [
       "<matplotlib.figure.Figure at 0xa4fd048>"
      ]
     },
     "metadata": {},
     "output_type": "display_data"
    },
    {
     "name": "stdout",
     "output_type": "stream",
     "text": [
      "MLE = 133.64\n"
     ]
    }
   ],
   "source": [
    "from math import log,exp\n",
    "import numpy as np\n",
    "\n",
    "totDayCounts = ordDayCounts+weekendCounts\n",
    "lambdavals=np.linspace(120,150,100)\n",
    "def like(lam,n): return n*log(lam)-lam \n",
    "\n",
    "rloglik=[sum([like(lamval,n) for n in totDayCounts]) for lamval in lambdavals]\n",
    "rloglik = [i-max(rloglik) for i in rloglik]\n",
    "rlik = [exp(i) for i in rloglik]\n",
    "rlikeighth = [j for (i,j) in zip(rlik,lambdavals) if i>0.125]\n",
    "rliksixtnth = [j for (i,j) in zip(rlik,lambdavals) if i>0.0625]\n",
    "\n",
    "ax2 = plt.subplot()\n",
    "ax2.plot(lambdavals,rlik)\n",
    "ax2.set_ylim(0,1.2)\n",
    "ax2.set_xlabel('lambda value')\n",
    "ax2.set_ylabel('relative likelihood')\n",
    "ax2.plot(rlikeighth,[0.125]*len(rlikeighth), color='k')\n",
    "ax2.plot(rliksixtnth,[0.0625]*len(rliksixtnth), color='k')\n",
    "\n",
    "plt.show()\n",
    "\n",
    "print 'MLE = {:03.2f}'.format([j for (i,j) in zip(rlik,lambdavals) if i==1.0][0])"
   ]
  },
  {
   "cell_type": "markdown",
   "metadata": {},
   "source": [
    "## Interpreting likelihood\n",
    "\n",
    "So the maximum likelihood estimate (MLE) for $\\lambda$ is 133.64. Of course, this was really a roundabout way of calculation if all we really wanted was the point estimate for MLE, since the point estimate is of course nothing but the mean of the observations."
   ]
  },
  {
   "cell_type": "code",
   "execution_count": 201,
   "metadata": {
    "collapsed": false
   },
   "outputs": [
    {
     "data": {
      "text/plain": [
       "133.74193548387098"
      ]
     },
     "execution_count": 201,
     "metadata": {},
     "output_type": "execute_result"
    }
   ],
   "source": [
    "float(sum(totDayCounts))/len(totDayCounts)\n",
    "\n",
    "#The number is slightly off due to the discretization of lambda above"
   ]
  },
  {
   "cell_type": "markdown",
   "metadata": {},
   "source": [
    "However, the point estimate doesn't provide us with any sense of the uncertainty of our estimate. The full likelihood plot does. The lines for one eigth and one sixteenth likelihoods have been plotted. One eighth is a traditional cutoff on likelihood plots. The interpretation of these parameter values is that within this range there is no parameter value better than eight times better supported by the evidence."
   ]
  },
  {
   "cell_type": "markdown",
   "metadata": {},
   "source": [
    "# Auto collision lawyer billboards\n",
    "\n",
    "Let's say we are an auto collision lawyer looking to place a billboard somewhere in LA county. We'd like to know what street to put our billboard on. Maybe it makes sense to put the billboard where many collisions are occuring. In that case, we'd like to get the street name where the most collisions are occurring.\n",
    "\n",
    "There are many ways to get this information about street names. One would be to use a web API to provide information about a location based on lat/lon coordinates. The <a href=\"https://developers.google.com/maps/documentation/geocoding/intro\">Google Maps Geocoding API</a> is a very feature-rich example. It is limited to 2500 queries per day. <a href=\"https://github.com/Project-OSRM/osrm-backend/wiki/Server-API---v4,-old\">Project OSRM</a> is another no-frills example. \n",
    "\n",
    "We can ask the OSRM server which street is closest to the 2nd collision in the database with the following:"
   ]
  },
  {
   "cell_type": "code",
   "execution_count": 112,
   "metadata": {
    "collapsed": false
   },
   "outputs": [
    {
     "data": {
      "text/plain": [
       "'Gardena Freeway (CA 91)'"
      ]
     },
     "execution_count": 112,
     "metadata": {},
     "output_type": "execute_result"
    }
   ],
   "source": [
    "import urllib2\n",
    "import ast\n",
    "\n",
    "sampX=data.POINT_X[1]\n",
    "sampY=data.POINT_Y[1]\n",
    "page = urllib2.urlopen(\"http://router.project-osrm.org/nearest?loc=\"+str(sampY)+','+str(sampX))\n",
    "stuff = page.next()\n",
    "stuffdict = ast.literal_eval(stuff)\n",
    "stuffdict['name']"
   ]
  },
  {
   "cell_type": "markdown",
   "metadata": {},
   "source": [
    "## Don't reinvent the wheel\n",
    "\n",
    "Luckily, however, there already exists a column in the database with the streetname, and the nearest cross-street. Let's find the most collision-able streets:"
   ]
  },
  {
   "cell_type": "code",
   "execution_count": 162,
   "metadata": {
    "collapsed": false
   },
   "outputs": [
    {
     "data": {
      "text/plain": [
       "RT 5               114\n",
       "RT 10              106\n",
       "RT 405             105\n",
       "RT 101              89\n",
       "RT 110              60\n",
       "RT 210              54\n",
       "RT 60               54\n",
       "RT 605              50\n",
       "RT 710              36\n",
       "RT 91               35\n",
       "CRENSHAW BL         35\n",
       "WESTERN AV          35\n",
       "WILSHIRE BL         33\n",
       "VERMONT AV          31\n",
       "SANTA MONICA BL     30\n",
       "OLYMPIC BL          30\n",
       "FLORENCE AV         30\n",
       "RT 14               28\n",
       "SEPULVEDA BL        28\n",
       "VICTORY BL          28\n",
       "Name: PRIMARYRD, dtype: int64"
      ]
     },
     "execution_count": 162,
     "metadata": {},
     "output_type": "execute_result"
    }
   ],
   "source": [
    "#let's look at the top 200\n",
    "rdCounts = data.PRIMARYRD.value_counts()[:20]\n",
    "rdCounts"
   ]
  },
  {
   "cell_type": "markdown",
   "metadata": {},
   "source": [
    "Unsurprisingly, the freeways have the most collisions, followed by Crenshaw, Wilshire & Western."
   ]
  }
 ],
 "metadata": {
  "kernelspec": {
   "display_name": "Python [Root]",
   "language": "python",
   "name": "Python [Root]"
  },
  "language_info": {
   "codemirror_mode": {
    "name": "ipython",
    "version": 2
   },
   "file_extension": ".py",
   "mimetype": "text/x-python",
   "name": "python",
   "nbconvert_exporter": "python",
   "pygments_lexer": "ipython2",
   "version": "2.7.11"
  }
 },
 "nbformat": 4,
 "nbformat_minor": 0
}
