{
 "cells": [
  {
   "cell_type": "markdown",
   "metadata": {},
   "source": [
    "# Traffic collisions in Los Angeles County\n",
    "\n",
    "This is a Jupyter Notebook for analyzing the traffic collision data available for Los Angeles County through <a href=\"http://tims.berkeley.edu\">TIMS</a>. The analysis uses the Pandas package in Python:\n"
   ]
  },
  {
   "cell_type": "code",
   "execution_count": 2,
   "metadata": {
    "collapsed": true
   },
   "outputs": [],
   "source": [
    "import pandas"
   ]
  },
  {
   "cell_type": "markdown",
   "metadata": {},
   "source": [
    "# Analyzing data\n",
    "\n",
    "Hello."
   ]
  },
  {
   "cell_type": "code",
   "execution_count": 3,
   "metadata": {
    "collapsed": false
   },
   "outputs": [
    {
     "data": {
      "text/plain": [
       "(4146, 83)"
      ]
     },
     "execution_count": 3,
     "metadata": {},
     "output_type": "execute_result"
    }
   ],
   "source": [
    "#Load the data, show data size\n",
    "\n",
    "data = pandas.read_csv('Jan12Collisions.csv')\n",
    "data.shape"
   ]
  },
  {
   "cell_type": "code",
   "execution_count": 7,
   "metadata": {
    "collapsed": false
   },
   "outputs": [
    {
     "data": {
      "text/html": [
       "<div>\n",
       "<table border=\"1\" class=\"dataframe\">\n",
       "  <thead>\n",
       "    <tr style=\"text-align: right;\">\n",
       "      <th></th>\n",
       "      <th>CASEID</th>\n",
       "      <th>POINT_X</th>\n",
       "      <th>POINT_Y</th>\n",
       "      <th>YEAR_</th>\n",
       "      <th>LOCATION</th>\n",
       "      <th>CHPTYPE</th>\n",
       "      <th>DAYWEEK</th>\n",
       "      <th>CRASHSEV</th>\n",
       "      <th>VIOLCAT</th>\n",
       "      <th>KILLED</th>\n",
       "      <th>...</th>\n",
       "      <th>BICINJ</th>\n",
       "      <th>MCKILL</th>\n",
       "      <th>MCINJURE</th>\n",
       "      <th>RAMP1</th>\n",
       "      <th>RAMP2</th>\n",
       "      <th>CITY</th>\n",
       "      <th>COUNTY</th>\n",
       "      <th>STATE</th>\n",
       "      <th>X_CHP</th>\n",
       "      <th>Y_CHP</th>\n",
       "    </tr>\n",
       "  </thead>\n",
       "  <tbody>\n",
       "    <tr>\n",
       "      <th>0</th>\n",
       "      <td>6413841</td>\n",
       "      <td>0.000000</td>\n",
       "      <td>0.000000</td>\n",
       "      <td>2012</td>\n",
       "      <td>1942</td>\n",
       "      <td>0</td>\n",
       "      <td>2</td>\n",
       "      <td>3</td>\n",
       "      <td>09</td>\n",
       "      <td>0</td>\n",
       "      <td>...</td>\n",
       "      <td>0</td>\n",
       "      <td>0</td>\n",
       "      <td>0</td>\n",
       "      <td>-</td>\n",
       "      <td>-</td>\n",
       "      <td>LOS ANGELES</td>\n",
       "      <td>LOS ANGELES</td>\n",
       "      <td>CA</td>\n",
       "      <td>0.00000</td>\n",
       "      <td>0.00000</td>\n",
       "    </tr>\n",
       "    <tr>\n",
       "      <th>1</th>\n",
       "      <td>6348475</td>\n",
       "      <td>-118.208609</td>\n",
       "      <td>33.873498</td>\n",
       "      <td>2012</td>\n",
       "      <td>1900</td>\n",
       "      <td>3</td>\n",
       "      <td>1</td>\n",
       "      <td>4</td>\n",
       "      <td>03</td>\n",
       "      <td>0</td>\n",
       "      <td>...</td>\n",
       "      <td>0</td>\n",
       "      <td>0</td>\n",
       "      <td>0</td>\n",
       "      <td>-</td>\n",
       "      <td>-</td>\n",
       "      <td>UNINCORPORATED</td>\n",
       "      <td>LOS ANGELES</td>\n",
       "      <td>CA</td>\n",
       "      <td>-118.20821</td>\n",
       "      <td>33.87339</td>\n",
       "    </tr>\n",
       "    <tr>\n",
       "      <th>2</th>\n",
       "      <td>6216712</td>\n",
       "      <td>-118.210569</td>\n",
       "      <td>33.925397</td>\n",
       "      <td>2012</td>\n",
       "      <td>1943</td>\n",
       "      <td>1</td>\n",
       "      <td>4</td>\n",
       "      <td>4</td>\n",
       "      <td>03</td>\n",
       "      <td>0</td>\n",
       "      <td>...</td>\n",
       "      <td>0</td>\n",
       "      <td>0</td>\n",
       "      <td>0</td>\n",
       "      <td>-</td>\n",
       "      <td>-</td>\n",
       "      <td>LYNWOOD</td>\n",
       "      <td>LOS ANGELES</td>\n",
       "      <td>CA</td>\n",
       "      <td>-118.21148</td>\n",
       "      <td>33.92575</td>\n",
       "    </tr>\n",
       "    <tr>\n",
       "      <th>3</th>\n",
       "      <td>6071228</td>\n",
       "      <td>-118.536040</td>\n",
       "      <td>34.168913</td>\n",
       "      <td>2012</td>\n",
       "      <td>1942</td>\n",
       "      <td>0</td>\n",
       "      <td>5</td>\n",
       "      <td>4</td>\n",
       "      <td>00</td>\n",
       "      <td>0</td>\n",
       "      <td>...</td>\n",
       "      <td>0</td>\n",
       "      <td>0</td>\n",
       "      <td>0</td>\n",
       "      <td>-</td>\n",
       "      <td>-</td>\n",
       "      <td>LOS ANGELES</td>\n",
       "      <td>LOS ANGELES</td>\n",
       "      <td>CA</td>\n",
       "      <td>0.00000</td>\n",
       "      <td>0.00000</td>\n",
       "    </tr>\n",
       "    <tr>\n",
       "      <th>4</th>\n",
       "      <td>6063954</td>\n",
       "      <td>-118.168333</td>\n",
       "      <td>34.114790</td>\n",
       "      <td>2012</td>\n",
       "      <td>1970</td>\n",
       "      <td>0</td>\n",
       "      <td>4</td>\n",
       "      <td>4</td>\n",
       "      <td>18</td>\n",
       "      <td>0</td>\n",
       "      <td>...</td>\n",
       "      <td>1</td>\n",
       "      <td>0</td>\n",
       "      <td>0</td>\n",
       "      <td>-</td>\n",
       "      <td>-</td>\n",
       "      <td>SOUTH PASADENA</td>\n",
       "      <td>LOS ANGELES</td>\n",
       "      <td>CA</td>\n",
       "      <td>0.00000</td>\n",
       "      <td>0.00000</td>\n",
       "    </tr>\n",
       "  </tbody>\n",
       "</table>\n",
       "<p>5 rows × 83 columns</p>\n",
       "</div>"
      ],
      "text/plain": [
       "    CASEID     POINT_X    POINT_Y  YEAR_  LOCATION CHPTYPE  DAYWEEK  CRASHSEV  \\\n",
       "0  6413841    0.000000   0.000000   2012      1942       0        2         3   \n",
       "1  6348475 -118.208609  33.873498   2012      1900       3        1         4   \n",
       "2  6216712 -118.210569  33.925397   2012      1943       1        4         4   \n",
       "3  6071228 -118.536040  34.168913   2012      1942       0        5         4   \n",
       "4  6063954 -118.168333  34.114790   2012      1970       0        4         4   \n",
       "\n",
       "  VIOLCAT  KILLED    ...     BICINJ MCKILL MCINJURE RAMP1 RAMP2  \\\n",
       "0      09       0    ...          0      0        0     -     -   \n",
       "1      03       0    ...          0      0        0     -     -   \n",
       "2      03       0    ...          0      0        0     -     -   \n",
       "3      00       0    ...          0      0        0     -     -   \n",
       "4      18       0    ...          1      0        0     -     -   \n",
       "\n",
       "             CITY       COUNTY  STATE      X_CHP     Y_CHP  \n",
       "0     LOS ANGELES  LOS ANGELES     CA    0.00000   0.00000  \n",
       "1  UNINCORPORATED  LOS ANGELES     CA -118.20821  33.87339  \n",
       "2         LYNWOOD  LOS ANGELES     CA -118.21148  33.92575  \n",
       "3     LOS ANGELES  LOS ANGELES     CA    0.00000   0.00000  \n",
       "4  SOUTH PASADENA  LOS ANGELES     CA    0.00000   0.00000  \n",
       "\n",
       "[5 rows x 83 columns]"
      ]
     },
     "execution_count": 7,
     "metadata": {},
     "output_type": "execute_result"
    }
   ],
   "source": [
    "# What does the data look like? limit to first five rows\n",
    "\n",
    "data.iloc[:5,:]"
   ]
  },
  {
   "cell_type": "markdown",
   "metadata": {},
   "source": [
    "The many columns of this data table are labeled in ways that aren't entirely clear. One can refer to the <a href= \"https://www.google.com/url?sa=t&rct=j&q=&esrc=s&source=web&cd=1&cad=rja&uact=8&ved=0ahUKEwiVlLOUxrfOAhVKw2MKHcgiA0QQFggeMAA&url=http%3A%2F%2Ftims.berkeley.edu%2Fhelp%2Ffiles%2FSWITRS_codebook.doc&usg=AFQjCNGCxvBCwxEhUNqig4mfgAFWux-Ucg&sig2=CE-FCd7hQyDTWSMS3TljcQ\">SWITRS codebook</a>.\n",
    "\n",
    "This allows us to interpret ."
   ]
  },
  {
   "cell_type": "code",
   "execution_count": 32,
   "metadata": {
    "collapsed": false
   },
   "outputs": [
    {
     "data": {
      "text/plain": [
       "17    357\n",
       "18    333\n",
       "15    332\n",
       "16    268\n",
       "14    254\n",
       "13    242\n",
       "8     231\n",
       "12    222\n",
       "11    219\n",
       "7     212\n",
       "19    209\n",
       "10    208\n",
       "9     185\n",
       "20    141\n",
       "22    112\n",
       "21    112\n",
       "6      97\n",
       "2      78\n",
       "5      72\n",
       "1      70\n",
       "23     54\n",
       "0      51\n",
       "3      49\n",
       "4      34\n",
       "Name: TIME_, dtype: int64"
      ]
     },
     "execution_count": 32,
     "metadata": {},
     "output_type": "execute_result"
    }
   ],
   "source": [
    "HourCounts = (data.TIME_//100).value_counts().iloc[0:24]\n",
    "HourCounts"
   ]
  },
  {
   "cell_type": "code",
   "execution_count": 37,
   "metadata": {
    "collapsed": false
   },
   "outputs": [
    {
     "data": {
      "text/plain": [
       "[51,\n",
       " 70,\n",
       " 78,\n",
       " 49,\n",
       " 34,\n",
       " 72,\n",
       " 97,\n",
       " 212,\n",
       " 231,\n",
       " 185,\n",
       " 208,\n",
       " 219,\n",
       " 222,\n",
       " 242,\n",
       " 254,\n",
       " 332,\n",
       " 268,\n",
       " 357,\n",
       " 333,\n",
       " 209,\n",
       " 141,\n",
       " 112,\n",
       " 112,\n",
       " 54]"
      ]
     },
     "execution_count": 37,
     "metadata": {},
     "output_type": "execute_result"
    }
   ],
   "source": [
    "HourCounts.loc[17]\n",
    "OrdHrCnts = [HourCounts.loc[i] for i in range(24)]\n",
    "OrdHrCnts"
   ]
  },
  {
   "cell_type": "code",
   "execution_count": 43,
   "metadata": {
    "collapsed": false
   },
   "outputs": [
    {
     "data": {
      "image/png": "[encoded data removed]",
      "text/plain": [
       "<matplotlib.figure.Figure at 0xa505978>"
      ]
     },
     "metadata": {},
     "output_type": "display_data"
    }
   ],
   "source": [
    "%matplotlib inline\n",
    "\n",
    "import matplotlib.pyplot as plt\n",
    "\n",
    "plt.plot(OrdHrCnts)\n",
    "plt.xlabel('Hour of Day')\n",
    "plt.ylabel('Number of Crashes')\n",
    "plt.show()\n"
   ]
  }
 ],
 "metadata": {
  "kernelspec": {
   "display_name": "Python [Root]",
   "language": "python",
   "name": "Python [Root]"
  },
  "language_info": {
   "codemirror_mode": {
    "name": "ipython",
    "version": 2
   },
   "file_extension": ".py",
   "mimetype": "text/x-python",
   "name": "python",
   "nbconvert_exporter": "python",
   "pygments_lexer": "ipython2",
   "version": "2.7.11"
  }
 },
 "nbformat": 4,
 "nbformat_minor": 0
}
