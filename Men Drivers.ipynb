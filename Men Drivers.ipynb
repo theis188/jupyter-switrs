{
 "cells": [
  {
   "cell_type": "markdown",
   "metadata": {},
   "source": [
    "# Men are worse drivers, but only slightly\n",
    "\n",
    "This is a Jupyter Notebook for analyzing the traffic collision data available for Los Angeles County through <a href=\"http://tims.berkeley.edu\">TIMS</a>. The analysis uses the Pandas package in Python:\n"
   ]
  },
  {
   "cell_type": "code",
   "execution_count": 3,
   "metadata": {
    "collapsed": true
   },
   "outputs": [],
   "source": [
    "import pandas"
   ]
  },
  {
   "cell_type": "markdown",
   "metadata": {},
   "source": [
    "The data can be downloaded from TIMS with a user account. Only ~5000 collisions may be downloaded at a time. This allows for about one month worth of data for Los Angeles County. \n",
    "\n",
    "Here, the data for the parties involved in traffic collisions fron January 2012 in Los Angeles County is used."
   ]
  },
  {
   "cell_type": "code",
   "execution_count": 4,
   "metadata": {
    "collapsed": false
   },
   "outputs": [
    {
     "data": {
      "text/plain": [
       "(8893, 34)"
      ]
     },
     "execution_count": 4,
     "metadata": {},
     "output_type": "execute_result"
    }
   ],
   "source": [
    "#Load the data, show data size\n",
    "\n",
    "data = pandas.read_csv('Jan12Parties.csv')\n",
    "data.shape"
   ]
  },
  {
   "cell_type": "markdown",
   "metadata": {},
   "source": [
    "There were 8893 parties in recorded accidents in Los Angeles County in Jan 2012. This database records all parties involved in a collision: perpetrator, victim, affected bystanders etc."
   ]
  },
  {
   "cell_type": "code",
   "execution_count": 5,
   "metadata": {
    "collapsed": false,
    "scrolled": true
   },
   "outputs": [
    {
     "data": {
      "text/html": [
       "<div>\n",
       "<table border=\"1\" class=\"dataframe\">\n",
       "  <thead>\n",
       "    <tr style=\"text-align: right;\">\n",
       "      <th></th>\n",
       "      <th>CASEID</th>\n",
       "      <th>PARNUM</th>\n",
       "      <th>PTYPE</th>\n",
       "      <th>ATFAULT</th>\n",
       "      <th>PSEX</th>\n",
       "      <th>PAGE</th>\n",
       "      <th>PSOBER</th>\n",
       "      <th>PDRUG</th>\n",
       "      <th>PDIRECT</th>\n",
       "      <th>PSAFETY1</th>\n",
       "      <th>...</th>\n",
       "      <th>VEHYEAR</th>\n",
       "      <th>VEHMAKE</th>\n",
       "      <th>VEHTYPE</th>\n",
       "      <th>CHPTYPE1</th>\n",
       "      <th>CHPTYPE2</th>\n",
       "      <th>PRACE</th>\n",
       "      <th>INATTN</th>\n",
       "      <th>TRUCKCMB</th>\n",
       "      <th>TRAILRCMB</th>\n",
       "      <th>YEAR_</th>\n",
       "    </tr>\n",
       "  </thead>\n",
       "  <tbody>\n",
       "    <tr>\n",
       "      <th>0</th>\n",
       "      <td>5980867</td>\n",
       "      <td>1</td>\n",
       "      <td>1</td>\n",
       "      <td>Y</td>\n",
       "      <td>M</td>\n",
       "      <td>57</td>\n",
       "      <td>A</td>\n",
       "      <td>-</td>\n",
       "      <td>S</td>\n",
       "      <td>L</td>\n",
       "      <td>...</td>\n",
       "      <td>1997</td>\n",
       "      <td>HONDA</td>\n",
       "      <td>A</td>\n",
       "      <td>01</td>\n",
       "      <td>00</td>\n",
       "      <td>B</td>\n",
       "      <td>NaN</td>\n",
       "      <td>-</td>\n",
       "      <td>-</td>\n",
       "      <td>2012</td>\n",
       "    </tr>\n",
       "    <tr>\n",
       "      <th>1</th>\n",
       "      <td>5980827</td>\n",
       "      <td>2</td>\n",
       "      <td>1</td>\n",
       "      <td>Y</td>\n",
       "      <td>M</td>\n",
       "      <td>18</td>\n",
       "      <td>A</td>\n",
       "      <td>-</td>\n",
       "      <td>S</td>\n",
       "      <td>L</td>\n",
       "      <td>...</td>\n",
       "      <td>1996</td>\n",
       "      <td>FORD</td>\n",
       "      <td>A</td>\n",
       "      <td>01</td>\n",
       "      <td>00</td>\n",
       "      <td>W</td>\n",
       "      <td>NaN</td>\n",
       "      <td>-</td>\n",
       "      <td>-</td>\n",
       "      <td>2012</td>\n",
       "    </tr>\n",
       "    <tr>\n",
       "      <th>2</th>\n",
       "      <td>5980827</td>\n",
       "      <td>1</td>\n",
       "      <td>1</td>\n",
       "      <td>N</td>\n",
       "      <td>F</td>\n",
       "      <td>56</td>\n",
       "      <td>A</td>\n",
       "      <td>-</td>\n",
       "      <td>S</td>\n",
       "      <td>M</td>\n",
       "      <td>...</td>\n",
       "      <td>2001</td>\n",
       "      <td>KIA</td>\n",
       "      <td>A</td>\n",
       "      <td>07</td>\n",
       "      <td>00</td>\n",
       "      <td>B</td>\n",
       "      <td>NaN</td>\n",
       "      <td>-</td>\n",
       "      <td>-</td>\n",
       "      <td>2012</td>\n",
       "    </tr>\n",
       "    <tr>\n",
       "      <th>3</th>\n",
       "      <td>5980823</td>\n",
       "      <td>2</td>\n",
       "      <td>1</td>\n",
       "      <td>N</td>\n",
       "      <td>F</td>\n",
       "      <td>31</td>\n",
       "      <td>A</td>\n",
       "      <td>-</td>\n",
       "      <td>N</td>\n",
       "      <td>M</td>\n",
       "      <td>...</td>\n",
       "      <td>2005</td>\n",
       "      <td>NISSAN</td>\n",
       "      <td>A</td>\n",
       "      <td>01</td>\n",
       "      <td>00</td>\n",
       "      <td>O</td>\n",
       "      <td>NaN</td>\n",
       "      <td>-</td>\n",
       "      <td>-</td>\n",
       "      <td>2012</td>\n",
       "    </tr>\n",
       "    <tr>\n",
       "      <th>4</th>\n",
       "      <td>5980823</td>\n",
       "      <td>1</td>\n",
       "      <td>2</td>\n",
       "      <td>Y</td>\n",
       "      <td>M</td>\n",
       "      <td>50</td>\n",
       "      <td>G</td>\n",
       "      <td>G</td>\n",
       "      <td>W</td>\n",
       "      <td>-</td>\n",
       "      <td>...</td>\n",
       "      <td>0</td>\n",
       "      <td>-</td>\n",
       "      <td>N</td>\n",
       "      <td>60</td>\n",
       "      <td>00</td>\n",
       "      <td>B</td>\n",
       "      <td>NaN</td>\n",
       "      <td>-</td>\n",
       "      <td>-</td>\n",
       "      <td>2012</td>\n",
       "    </tr>\n",
       "  </tbody>\n",
       "</table>\n",
       "<p>5 rows × 34 columns</p>\n",
       "</div>"
      ],
      "text/plain": [
       "    CASEID  PARNUM PTYPE ATFAULT PSEX  PAGE PSOBER PDRUG PDIRECT PSAFETY1  \\\n",
       "0  5980867       1     1       Y    M    57      A     -       S        L   \n",
       "1  5980827       2     1       Y    M    18      A     -       S        L   \n",
       "2  5980827       1     1       N    F    56      A     -       S        M   \n",
       "3  5980823       2     1       N    F    31      A     -       N        M   \n",
       "4  5980823       1     2       Y    M    50      G     G       W        -   \n",
       "\n",
       "   ...  VEHYEAR VEHMAKE VEHTYPE CHPTYPE1 CHPTYPE2 PRACE INATTN  TRUCKCMB  \\\n",
       "0  ...     1997   HONDA       A       01       00     B    NaN         -   \n",
       "1  ...     1996    FORD       A       01       00     W    NaN         -   \n",
       "2  ...     2001     KIA       A       07       00     B    NaN         -   \n",
       "3  ...     2005  NISSAN       A       01       00     O    NaN         -   \n",
       "4  ...        0       -       N       60       00     B    NaN         -   \n",
       "\n",
       "  TRAILRCMB YEAR_  \n",
       "0         -  2012  \n",
       "1         -  2012  \n",
       "2         -  2012  \n",
       "3         -  2012  \n",
       "4         -  2012  \n",
       "\n",
       "[5 rows x 34 columns]"
      ]
     },
     "execution_count": 5,
     "metadata": {},
     "output_type": "execute_result"
    }
   ],
   "source": [
    "# What does the data look like? limit to first five rows\n",
    "\n",
    "data.iloc[:5,:]"
   ]
  },
  {
   "cell_type": "markdown",
   "metadata": {},
   "source": [
    "# Querying a Pandas DataFrame\n",
    "\n",
    "Pandas DataFrames can be queried in a way which is conceptually (though not syntactically) similar to SQL databases.\n",
    "\n",
    "First, let's count up the total number of incidents (unique CASEID), and compare that to the number of parties."
   ]
  },
  {
   "cell_type": "code",
   "execution_count": 5,
   "metadata": {
    "collapsed": false
   },
   "outputs": [
    {
     "data": {
      "text/plain": [
       "4146"
      ]
     },
     "execution_count": 5,
     "metadata": {},
     "output_type": "execute_result"
    }
   ],
   "source": [
    "cases = data.CASEID.nunique()\n",
    "cases"
   ]
  },
  {
   "cell_type": "markdown",
   "metadata": {},
   "source": [
    "So there were 4146 cases (collisions) and 8893 parties. That means an average of 8893/4146 = 2.14 parties per case.\n",
    "\n",
    "Next, we will group by sex and fault, then count the entries with each unique combination of levels on these columns."
   ]
  },
  {
   "cell_type": "code",
   "execution_count": 8,
   "metadata": {
    "collapsed": false
   },
   "outputs": [
    {
     "data": {
      "text/html": [
       "<div>\n",
       "<table border=\"1\" class=\"dataframe\">\n",
       "  <thead>\n",
       "    <tr style=\"text-align: right;\">\n",
       "      <th></th>\n",
       "      <th></th>\n",
       "      <th>counts</th>\n",
       "    </tr>\n",
       "    <tr>\n",
       "      <th>ATFAULT</th>\n",
       "      <th>PSEX</th>\n",
       "      <th></th>\n",
       "    </tr>\n",
       "  </thead>\n",
       "  <tbody>\n",
       "    <tr>\n",
       "      <th rowspan=\"3\" valign=\"top\">N</th>\n",
       "      <th>-</th>\n",
       "      <td>481</td>\n",
       "    </tr>\n",
       "    <tr>\n",
       "      <th>F</th>\n",
       "      <td>1938</td>\n",
       "    </tr>\n",
       "    <tr>\n",
       "      <th>M</th>\n",
       "      <td>2577</td>\n",
       "    </tr>\n",
       "    <tr>\n",
       "      <th rowspan=\"3\" valign=\"top\">Y</th>\n",
       "      <th>-</th>\n",
       "      <td>297</td>\n",
       "    </tr>\n",
       "    <tr>\n",
       "      <th>F</th>\n",
       "      <td>1369</td>\n",
       "    </tr>\n",
       "    <tr>\n",
       "      <th>M</th>\n",
       "      <td>2231</td>\n",
       "    </tr>\n",
       "  </tbody>\n",
       "</table>\n",
       "</div>"
      ],
      "text/plain": [
       "              counts\n",
       "ATFAULT PSEX        \n",
       "N       -        481\n",
       "        F       1938\n",
       "        M       2577\n",
       "Y       -        297\n",
       "        F       1369\n",
       "        M       2231"
      ]
     },
     "execution_count": 8,
     "metadata": {},
     "output_type": "execute_result"
    }
   ],
   "source": [
    "#Count parties by sex & fault\n",
    "\n",
    "faultgender = data.groupby(['ATFAULT','PSEX']).count().iloc[:,[0]].rename(columns = {'CASEID':'counts'})\n",
    "faultgender"
   ]
  },
  {
   "cell_type": "code",
   "execution_count": 9,
   "metadata": {
    "collapsed": false
   },
   "outputs": [
    {
     "data": {
      "text/html": [
       "<div>\n",
       "<table border=\"1\" class=\"dataframe\">\n",
       "  <thead>\n",
       "    <tr style=\"text-align: right;\">\n",
       "      <th></th>\n",
       "      <th>ATFAULT</th>\n",
       "      <th>PSEX</th>\n",
       "      <th>counts</th>\n",
       "    </tr>\n",
       "  </thead>\n",
       "  <tbody>\n",
       "    <tr>\n",
       "      <th>1</th>\n",
       "      <td>N</td>\n",
       "      <td>F</td>\n",
       "      <td>1938</td>\n",
       "    </tr>\n",
       "    <tr>\n",
       "      <th>2</th>\n",
       "      <td>N</td>\n",
       "      <td>M</td>\n",
       "      <td>2577</td>\n",
       "    </tr>\n",
       "    <tr>\n",
       "      <th>4</th>\n",
       "      <td>Y</td>\n",
       "      <td>F</td>\n",
       "      <td>1369</td>\n",
       "    </tr>\n",
       "    <tr>\n",
       "      <th>5</th>\n",
       "      <td>Y</td>\n",
       "      <td>M</td>\n",
       "      <td>2231</td>\n",
       "    </tr>\n",
       "  </tbody>\n",
       "</table>\n",
       "</div>"
      ],
      "text/plain": [
       "  ATFAULT PSEX  counts\n",
       "1       N    F    1938\n",
       "2       N    M    2577\n",
       "4       Y    F    1369\n",
       "5       Y    M    2231"
      ]
     },
     "execution_count": 9,
     "metadata": {},
     "output_type": "execute_result"
    }
   ],
   "source": [
    "fg = faultgender.reset_index()\n",
    "fg = fg[fg.PSEX != '-']\n",
    "fg"
   ]
  },
  {
   "cell_type": "code",
   "execution_count": 10,
   "metadata": {
    "collapsed": false
   },
   "outputs": [
    {
     "data": {
      "text/plain": [
       "1.2394444444444443"
      ]
     },
     "execution_count": 10,
     "metadata": {},
     "output_type": "execute_result"
    }
   ],
   "source": [
    "#relative probabilites?\n",
    "\n",
    "float(2231)/(1369+2231)/0.5"
   ]
  },
  {
   "cell_type": "markdown",
   "metadata": {},
   "source": [
    "# Correcting for confounders\n",
    "\n",
    "This would seem to indicate that men are ~24% more likely to cause accidents, based on the assumption that men and women are equal portions of the population. However, due to the confounder of men being more likely to drive (due to driving/delivery occupations etc.) this is probably not quite true.\n",
    "\n",
    "Luckily, the data contains enough information to correct for this, at least partly. The database includes information about both the perpetrators and victims of crashes, which should correct for the hypothesis that there are more men driving. For each gender, we can calculate the probability of being at fault. Then we can calculate the relative risk of being at fault, conditioning on being male.\n",
    "\n",
    "$\\large RR = \\frac{P(Fault | Male)}{P(Fault | Female)}$"
   ]
  },
  {
   "cell_type": "code",
   "execution_count": 11,
   "metadata": {
    "collapsed": false
   },
   "outputs": [
    {
     "data": {
      "text/plain": [
       "[0.46401830282861894, 0.4139703658905352, 1.1208973903975479]"
      ]
     },
     "execution_count": 11,
     "metadata": {},
     "output_type": "execute_result"
    }
   ],
   "source": [
    "# Get values from dataframes\n",
    "NF = float(fg.counts[(fg.PSEX == 'F')&(fg.ATFAULT == 'N')].values[0])\n",
    "NM = float(fg.counts[(fg.PSEX == 'M')&(fg.ATFAULT == 'N')].values[0])\n",
    "YF = float(fg.counts[(fg.PSEX == 'F')&(fg.ATFAULT == 'Y')].values[0])\n",
    "YM = float(fg.counts[(fg.PSEX == 'M')&(fg.ATFAULT == 'Y')].values[0])\n",
    "\n",
    "#probability of being at fault for male parties\n",
    "PM = YM/(YM+NM)\n",
    "#probability of being at fault for female parties\n",
    "PF = YF/(YF+NF)\n",
    "#Relative risk of being at fault, given being a party in a traffic accident and being male\n",
    "RR = PM/PF\n",
    "[PM,PF,RR]"
   ]
  },
  {
   "cell_type": "markdown",
   "metadata": {},
   "source": [
    "# Conclusion...\n",
    "\n",
    "So men are ~12% more likely to be at fault in a collision, at least during January 2012 in Los Angeles County. We can also plot data in this notebook as follows."
   ]
  },
  {
   "cell_type": "code",
   "execution_count": 12,
   "metadata": {
    "collapsed": false
   },
   "outputs": [
    {
     "data": {
      "image/png": "[encoded data removed]",
      "text/plain": [
       "<matplotlib.figure.Figure at 0x836bb70>"
      ]
     },
     "metadata": {},
     "output_type": "display_data"
    }
   ],
   "source": [
    "%matplotlib inline\n",
    "\n",
    "import matplotlib.pyplot as plt\n",
    "import numpy as np\n",
    "\n",
    "N = 2\n",
    "Men = (YM, NM)\n",
    "\n",
    "ind = np.arange(N)  # the x locations for the groups\n",
    "width = 0.35       # the width of the bars\n",
    "\n",
    "fig, ax = plt.subplots()\n",
    "rects1 = ax.bar(ind, Men, width, color='r')\n",
    "\n",
    "Women = (YF, NF)\n",
    "rects2 = ax.bar(ind + width, Women, width, color='y')\n",
    "\n",
    "# add some text for labels, title and axes ticks\n",
    "ax.set_ylabel('Count')\n",
    "ax.set_title('Count by Fault & Gender')\n",
    "ax.set_xticks(ind + width)\n",
    "ax.set_xticklabels(('Fault','Not at Fault'))\n",
    "\n",
    "ax.legend((rects1[0], rects2[0]), ('Men', 'Women'),loc=(0.25,0.75))\n",
    "\n",
    "def autolabel(rects):\n",
    "    # attach some text labels\n",
    "    for rect in rects:\n",
    "        height = rect.get_height()\n",
    "        ax.text(rect.get_x() + rect.get_width()/2., 1.05*height,\n",
    "                '%d' % int(height),\n",
    "                ha='center', va='bottom')\n",
    "\n",
    "autolabel(rects1)\n",
    "autolabel(rects2)\n",
    "\n",
    "plt.show()"
   ]
  }
 ],
 "metadata": {
  "anaconda-cloud": {},
  "kernelspec": {
   "display_name": "Python [Root]",
   "language": "python",
   "name": "Python [Root]"
  },
  "language_info": {
   "codemirror_mode": {
    "name": "ipython",
    "version": 2
   },
   "file_extension": ".py",
   "mimetype": "text/x-python",
   "name": "python",
   "nbconvert_exporter": "python",
   "pygments_lexer": "ipython2",
   "version": "2.7.11"
  }
 },
 "nbformat": 4,
 "nbformat_minor": 0
}
